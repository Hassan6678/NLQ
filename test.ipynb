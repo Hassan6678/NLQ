{
 "cells": [
  {
   "cell_type": "code",
   "execution_count": 2,
   "id": "73fdf91a",
   "metadata": {},
   "outputs": [],
   "source": [
    "from llama_cpp import Llama\n",
    "import pandas as pd\n",
    "import duckdb, os"
   ]
  },
  {
   "cell_type": "code",
   "execution_count": 3,
   "id": "2c014dd9",
   "metadata": {},
   "outputs": [
    {
     "name": "stderr",
     "output_type": "stream",
     "text": [
      "AVX = 1 | AVX2 = 1 | AVX512 = 0 | AVX512_VBMI = 0 | AVX512_VNNI = 0 | FMA = 1 | NEON = 0 | ARM_FMA = 0 | F16C = 1 | FP16_VA = 0 | WASM_SIMD = 0 | BLAS = 1 | SSE3 = 1 | SSSE3 = 0 | VSX = 0 | \n"
     ]
    }
   ],
   "source": [
    "# Path to your GGUF model\n",
    "MODEL_PATH = \"models/llama-3-sqlcoder-8b.Q6_K.gguf\"\n",
    "\n",
    "# llm = Llama(model_path=MODEL_PATH, n_ctx=2048, n_threads=6)\n",
    "llm = Llama(\n",
    "    model_path=MODEL_PATH,\n",
    "    n_ctx=1024,  # Lower context size if RAM is an issue\n",
    "    n_threads=6,\n",
    "    n_gpu_layers=20,  # Safer for 8GB GPU\n",
    "    verbose=True\n",
    ")"
   ]
  },
  {
   "cell_type": "code",
   "execution_count": 4,
   "id": "a765f0dc",
   "metadata": {},
   "outputs": [
    {
     "name": "stderr",
     "output_type": "stream",
     "text": [
      "C:\\Users\\hassa\\AppData\\Local\\Temp\\ipykernel_11640\\3847965011.py:2: DtypeWarning: Columns (12) have mixed types. Specify dtype option on import or set low_memory=False.\n",
      "  df = pd.read_csv(\"./data/llm_dataset_v10.gz\")\n"
     ]
    },
    {
     "data": {
      "text/plain": [
       "<duckdb.duckdb.DuckDBPyConnection at 0x203a5d6a970>"
      ]
     },
     "execution_count": 4,
     "metadata": {},
     "output_type": "execute_result"
    }
   ],
   "source": [
    "# Load CSV into DuckDB\n",
    "df = pd.read_csv(\"./data/llm_dataset_v10.gz\")\n",
    "con = duckdb.connect()\n",
    "con.register(\"sales_data\", df)"
   ]
  },
  {
   "cell_type": "code",
   "execution_count": 6,
   "id": "2bf1163a",
   "metadata": {},
   "outputs": [],
   "source": [
    "# Prompt template\n",
    "def build_prompt(nlq):\n",
    "    schema = \"sales_data(region TEXT, quarter TEXT, sales INT)\"\n",
    "    prompt = f\"\"\"### You are an expert Postgres SQL generator.\n",
    "### Given the following table schema:\n",
    "# {schema}\n",
    "\n",
    "### Write a SQL query to answer the question:\n",
    "# {nlq}\n",
    "\n",
    "### SQL:\n",
    "\"\"\"\n",
    "    return prompt"
   ]
  },
  {
   "cell_type": "code",
   "execution_count": 10,
   "id": "57737dfd",
   "metadata": {},
   "outputs": [],
   "source": [
    "# Query model\n",
    "def generate_sql(prompt):\n",
    "    output = llm(prompt, temperature=0, max_tokens=256)\n",
    "    text = output[\"choices\"][0][\"text\"]\n",
    "\n",
    "    if \"SELECT\" not in text.upper():\n",
    "        print(\"❌ 'SELECT' not found in model output. Raw output:\")\n",
    "        print(text)\n",
    "        return None\n",
    "\n",
    "    # Try to extract SQL statement cleanly\n",
    "    try:\n",
    "        sql = \"SELECT \" + text.upper().split(\"SELECT\", 1)[1].split(\";\")[0].strip() + \";\"\n",
    "        return sql\n",
    "    except Exception as e:\n",
    "        print(\"❌ Error while parsing SQL:\", e)\n",
    "        print(\"Raw model output:\")\n",
    "        print(text)\n",
    "        return None"
   ]
  },
  {
   "cell_type": "code",
   "execution_count": 8,
   "id": "6fe79904",
   "metadata": {},
   "outputs": [],
   "source": [
    "# Run query\n",
    "def run_nlq(nlq):\n",
    "    prompt = build_prompt(nlq)\n",
    "    sql = generate_sql(prompt)\n",
    "\n",
    "    if not sql:\n",
    "        print(\"\\n⚠️ Could not generate valid SQL.\")\n",
    "        return\n",
    "\n",
    "    print(\"\\n📜 Generated SQL:\")\n",
    "    print(sql)\n",
    "\n",
    "    try:\n",
    "        result = con.execute(sql).fetchdf()\n",
    "        print(\"\\n📊 Query Result:\")\n",
    "        print(result)\n",
    "    except Exception as e:\n",
    "        print(\"\\n❌ SQL Execution Error:\")\n",
    "        print(e)"
   ]
  },
  {
   "cell_type": "code",
   "execution_count": 11,
   "id": "a0717556",
   "metadata": {},
   "outputs": [
    {
     "name": "stderr",
     "output_type": "stream",
     "text": [
      "Llama.generate: prefix-match hit\n"
     ]
    },
    {
     "name": "stdout",
     "output_type": "stream",
     "text": [
      "\n",
      "📜 Generated SQL:\n",
      "SELECT SUM(SALES) AS TOTAL_SALES FROM SALES_DATA WHERE REGION = 'NORTHEAST' AND QUARTER = 'Q3';\n",
      "\n",
      "📊 Query Result:\n",
      "   TOTAL_SALES\n",
      "0          NaN\n"
     ]
    }
   ],
   "source": [
    "run_nlq(\"What were the total sales in Q3 for the Northeast?\")"
   ]
  },
  {
   "cell_type": "code",
   "execution_count": 5,
   "id": "de87c5cb",
   "metadata": {},
   "outputs": [
    {
     "data": {
      "text/html": [
       "<div>\n",
       "<style scoped>\n",
       "    .dataframe tbody tr th:only-of-type {\n",
       "        vertical-align: middle;\n",
       "    }\n",
       "\n",
       "    .dataframe tbody tr th {\n",
       "        vertical-align: top;\n",
       "    }\n",
       "\n",
       "    .dataframe thead th {\n",
       "        text-align: right;\n",
       "    }\n",
       "</style>\n",
       "<table border=\"1\" class=\"dataframe\">\n",
       "  <thead>\n",
       "    <tr style=\"text-align: right;\">\n",
       "      <th></th>\n",
       "      <th>month</th>\n",
       "      <th>year</th>\n",
       "      <th>region</th>\n",
       "      <th>city</th>\n",
       "      <th>area</th>\n",
       "      <th>territory</th>\n",
       "      <th>distributor</th>\n",
       "      <th>route</th>\n",
       "      <th>customer</th>\n",
       "      <th>brand</th>\n",
       "      <th>...</th>\n",
       "      <th>primary sales</th>\n",
       "      <th>target</th>\n",
       "      <th>productivity</th>\n",
       "      <th>mro</th>\n",
       "      <th>unproductive_mro</th>\n",
       "      <th>unassorted_mro</th>\n",
       "      <th>stockout_mro</th>\n",
       "      <th>stockout</th>\n",
       "      <th>assortment</th>\n",
       "      <th>mto</th>\n",
       "    </tr>\n",
       "  </thead>\n",
       "  <tbody>\n",
       "    <tr>\n",
       "      <th>0</th>\n",
       "      <td>11</td>\n",
       "      <td>2024</td>\n",
       "      <td>Central-A</td>\n",
       "      <td>lahore</td>\n",
       "      <td>Lahore Central Area</td>\n",
       "      <td>Lahore-A Territory</td>\n",
       "      <td>D0715</td>\n",
       "      <td>D0715OB26</td>\n",
       "      <td>N00000166872_D0715OB26</td>\n",
       "      <td>CHOCO LAVA</td>\n",
       "      <td>...</td>\n",
       "      <td>257.940313</td>\n",
       "      <td>1051.658369</td>\n",
       "      <td>True</td>\n",
       "      <td>85.635363</td>\n",
       "      <td>6.182219</td>\n",
       "      <td>35.996300</td>\n",
       "      <td>43.456844</td>\n",
       "      <td>True</td>\n",
       "      <td>False</td>\n",
       "      <td>752.058369</td>\n",
       "    </tr>\n",
       "    <tr>\n",
       "      <th>1</th>\n",
       "      <td>11</td>\n",
       "      <td>2024</td>\n",
       "      <td>Central-A</td>\n",
       "      <td>lahore</td>\n",
       "      <td>Lahore Central Area</td>\n",
       "      <td>Lahore-A Territory</td>\n",
       "      <td>D0715</td>\n",
       "      <td>D0715OB26</td>\n",
       "      <td>N00000167036_D0715OB26</td>\n",
       "      <td>CHOCO LAVA</td>\n",
       "      <td>...</td>\n",
       "      <td>515.880626</td>\n",
       "      <td>2103.316738</td>\n",
       "      <td>True</td>\n",
       "      <td>171.270725</td>\n",
       "      <td>12.364438</td>\n",
       "      <td>71.992599</td>\n",
       "      <td>86.913688</td>\n",
       "      <td>False</td>\n",
       "      <td>False</td>\n",
       "      <td>1504.116738</td>\n",
       "    </tr>\n",
       "    <tr>\n",
       "      <th>2</th>\n",
       "      <td>11</td>\n",
       "      <td>2024</td>\n",
       "      <td>Central-A</td>\n",
       "      <td>lahore</td>\n",
       "      <td>Lahore Central Area</td>\n",
       "      <td>Lahore-A Territory</td>\n",
       "      <td>D0715</td>\n",
       "      <td>D0715OB26</td>\n",
       "      <td>N00000167037_D0715OB26</td>\n",
       "      <td>CHOCO LAVA</td>\n",
       "      <td>...</td>\n",
       "      <td>257.940313</td>\n",
       "      <td>1051.658369</td>\n",
       "      <td>True</td>\n",
       "      <td>85.635363</td>\n",
       "      <td>6.182219</td>\n",
       "      <td>35.996300</td>\n",
       "      <td>43.456844</td>\n",
       "      <td>False</td>\n",
       "      <td>True</td>\n",
       "      <td>752.058369</td>\n",
       "    </tr>\n",
       "    <tr>\n",
       "      <th>3</th>\n",
       "      <td>11</td>\n",
       "      <td>2024</td>\n",
       "      <td>Central-A</td>\n",
       "      <td>lahore</td>\n",
       "      <td>Lahore Central Area</td>\n",
       "      <td>Lahore-A Territory</td>\n",
       "      <td>D0715</td>\n",
       "      <td>D0715OB26</td>\n",
       "      <td>N00000167080_D0715OB26</td>\n",
       "      <td>CHOCO LAVA</td>\n",
       "      <td>...</td>\n",
       "      <td>257.940313</td>\n",
       "      <td>1051.658369</td>\n",
       "      <td>True</td>\n",
       "      <td>85.635363</td>\n",
       "      <td>6.182219</td>\n",
       "      <td>35.996300</td>\n",
       "      <td>43.456844</td>\n",
       "      <td>False</td>\n",
       "      <td>False</td>\n",
       "      <td>752.058369</td>\n",
       "    </tr>\n",
       "    <tr>\n",
       "      <th>4</th>\n",
       "      <td>11</td>\n",
       "      <td>2024</td>\n",
       "      <td>Central-A</td>\n",
       "      <td>lahore</td>\n",
       "      <td>Lahore Central Area</td>\n",
       "      <td>Lahore-A Territory</td>\n",
       "      <td>D0715</td>\n",
       "      <td>D0715OB26</td>\n",
       "      <td>N00000167081_D0715OB26</td>\n",
       "      <td>CHOCO LAVA</td>\n",
       "      <td>...</td>\n",
       "      <td>515.880626</td>\n",
       "      <td>2103.316738</td>\n",
       "      <td>True</td>\n",
       "      <td>171.270725</td>\n",
       "      <td>12.364438</td>\n",
       "      <td>71.992599</td>\n",
       "      <td>86.913688</td>\n",
       "      <td>True</td>\n",
       "      <td>True</td>\n",
       "      <td>1504.116738</td>\n",
       "    </tr>\n",
       "  </tbody>\n",
       "</table>\n",
       "<p>5 rows × 24 columns</p>\n",
       "</div>"
      ],
      "text/plain": [
       "   month  year     region    city                 area           territory  \\\n",
       "0     11  2024  Central-A  lahore  Lahore Central Area  Lahore-A Territory   \n",
       "1     11  2024  Central-A  lahore  Lahore Central Area  Lahore-A Territory   \n",
       "2     11  2024  Central-A  lahore  Lahore Central Area  Lahore-A Territory   \n",
       "3     11  2024  Central-A  lahore  Lahore Central Area  Lahore-A Territory   \n",
       "4     11  2024  Central-A  lahore  Lahore Central Area  Lahore-A Territory   \n",
       "\n",
       "  distributor      route                customer       brand  ...  \\\n",
       "0       D0715  D0715OB26  N00000166872_D0715OB26  CHOCO LAVA  ...   \n",
       "1       D0715  D0715OB26  N00000167036_D0715OB26  CHOCO LAVA  ...   \n",
       "2       D0715  D0715OB26  N00000167037_D0715OB26  CHOCO LAVA  ...   \n",
       "3       D0715  D0715OB26  N00000167080_D0715OB26  CHOCO LAVA  ...   \n",
       "4       D0715  D0715OB26  N00000167081_D0715OB26  CHOCO LAVA  ...   \n",
       "\n",
       "  primary sales       target productivity         mro  unproductive_mro  \\\n",
       "0    257.940313  1051.658369         True   85.635363          6.182219   \n",
       "1    515.880626  2103.316738         True  171.270725         12.364438   \n",
       "2    257.940313  1051.658369         True   85.635363          6.182219   \n",
       "3    257.940313  1051.658369         True   85.635363          6.182219   \n",
       "4    515.880626  2103.316738         True  171.270725         12.364438   \n",
       "\n",
       "   unassorted_mro  stockout_mro  stockout  assortment          mto  \n",
       "0       35.996300     43.456844      True       False   752.058369  \n",
       "1       71.992599     86.913688     False       False  1504.116738  \n",
       "2       35.996300     43.456844     False        True   752.058369  \n",
       "3       35.996300     43.456844     False       False   752.058369  \n",
       "4       71.992599     86.913688      True        True  1504.116738  \n",
       "\n",
       "[5 rows x 24 columns]"
      ]
     },
     "execution_count": 5,
     "metadata": {},
     "output_type": "execute_result"
    }
   ],
   "source": [
    "con.execute(\"SELECT * FROM sales_data LIMIT 5\").fetchdf()"
   ]
  },
  {
   "cell_type": "code",
   "execution_count": 7,
   "id": "0b3fc672",
   "metadata": {},
   "outputs": [
    {
     "name": "stdout",
     "output_type": "stream",
     "text": [
      "\n",
      "📜 Executing SQL:\n"
     ]
    },
    {
     "data": {
      "text/html": [
       "<div>\n",
       "<style scoped>\n",
       "    .dataframe tbody tr th:only-of-type {\n",
       "        vertical-align: middle;\n",
       "    }\n",
       "\n",
       "    .dataframe tbody tr th {\n",
       "        vertical-align: top;\n",
       "    }\n",
       "\n",
       "    .dataframe thead th {\n",
       "        text-align: right;\n",
       "    }\n",
       "</style>\n",
       "<table border=\"1\" class=\"dataframe\">\n",
       "  <thead>\n",
       "    <tr style=\"text-align: right;\">\n",
       "      <th></th>\n",
       "      <th>total_primary_sales</th>\n",
       "    </tr>\n",
       "  </thead>\n",
       "  <tbody>\n",
       "    <tr>\n",
       "      <th>0</th>\n",
       "      <td>NaN</td>\n",
       "    </tr>\n",
       "  </tbody>\n",
       "</table>\n",
       "</div>"
      ],
      "text/plain": [
       "   total_primary_sales\n",
       "0                  NaN"
      ]
     },
     "execution_count": 7,
     "metadata": {},
     "output_type": "execute_result"
    }
   ],
   "source": [
    "sql = \"SELECT SUM(sales) AS total_primary_sales FROM sales_data WHERE (month >= 7 AND month <= 9) AND year = 2024\"\n",
    "print(\"\\n📜 Executing SQL:\")\n",
    "con.execute(sql).fetchdf()"
   ]
  },
  {
   "cell_type": "code",
   "execution_count": null,
   "id": "98fac9ce",
   "metadata": {},
   "outputs": [],
   "source": []
  },
  {
   "cell_type": "code",
   "execution_count": null,
   "id": "93f6a028",
   "metadata": {},
   "outputs": [
    {
     "name": "stdout",
     "output_type": "stream",
     "text": [
      "\n",
      "📜 Executing SQL:\n"
     ]
    },
    {
     "ename": "BinderException",
     "evalue": "Binder Error: No function matches the given name and argument types 'sum(VARCHAR)'. You might need to add explicit type casts.\n\tCandidate functions:\n\tsum(DECIMAL) -> DECIMAL\n\tsum(BOOLEAN) -> HUGEINT\n\tsum(SMALLINT) -> HUGEINT\n\tsum(INTEGER) -> HUGEINT\n\tsum(BIGINT) -> HUGEINT\n\tsum(HUGEINT) -> HUGEINT\n\tsum(DOUBLE) -> DOUBLE\n\n\nLINE 1: SELECT SUM('primary sales') AS total_primary_sales FROM sales_data...\n               ^",
     "output_type": "error",
     "traceback": [
      "\u001b[1;31m---------------------------------------------------------------------------\u001b[0m\n",
      "\u001b[1;31mBinderException\u001b[0m                           Traceback (most recent call last)\n",
      "Cell \u001b[1;32mIn[6], line 3\u001b[0m\n",
      "\u001b[0;32m      1\u001b[0m sql \u001b[38;5;241m=\u001b[39m \u001b[38;5;124m\"\u001b[39m\u001b[38;5;124mSELECT SUM(\u001b[39m\u001b[38;5;124m'\u001b[39m\u001b[38;5;124mprimary sales\u001b[39m\u001b[38;5;124m'\u001b[39m\u001b[38;5;124m) AS total_primary_sales FROM sales_data WHERE (month >= 7 AND month <= 9) AND year = 2024\u001b[39m\u001b[38;5;124m\"\u001b[39m\n",
      "\u001b[0;32m      2\u001b[0m \u001b[38;5;28mprint\u001b[39m(\u001b[38;5;124m\"\u001b[39m\u001b[38;5;130;01m\\n\u001b[39;00m\u001b[38;5;124m📜 Executing SQL:\u001b[39m\u001b[38;5;124m\"\u001b[39m)\n",
      "\u001b[1;32m----> 3\u001b[0m \u001b[43mcon\u001b[49m\u001b[38;5;241;43m.\u001b[39;49m\u001b[43mexecute\u001b[49m\u001b[43m(\u001b[49m\u001b[43msql\u001b[49m\u001b[43m)\u001b[49m\u001b[38;5;241m.\u001b[39mfetchdf()\n",
      "\n",
      "\u001b[1;31mBinderException\u001b[0m: Binder Error: No function matches the given name and argument types 'sum(VARCHAR)'. You might need to add explicit type casts.\n",
      "\tCandidate functions:\n",
      "\tsum(DECIMAL) -> DECIMAL\n",
      "\tsum(BOOLEAN) -> HUGEINT\n",
      "\tsum(SMALLINT) -> HUGEINT\n",
      "\tsum(INTEGER) -> HUGEINT\n",
      "\tsum(BIGINT) -> HUGEINT\n",
      "\tsum(HUGEINT) -> HUGEINT\n",
      "\tsum(DOUBLE) -> DOUBLE\n",
      "\n",
      "\n",
      "LINE 1: SELECT SUM('primary sales') AS total_primary_sales FROM sales_data...\n",
      "               ^"
     ]
    }
   ],
   "source": [
    "sql = \"SELECT SUM('primary sales') AS total_primary_sales FROM sales_data WHERE (month >= 7 AND month <= 9) AND year = 2024\"\n",
    "print(\"\\n📜 Executing SQL:\")\n",
    "con.execute(sql).fetchdf()"
   ]
  },
  {
   "cell_type": "code",
   "execution_count": null,
   "id": "83423a82",
   "metadata": {},
   "outputs": [
    {
     "name": "stdout",
     "output_type": "stream",
     "text": [
      "\n",
      "📜 Executing SQL:\n"
     ]
    },
    {
     "ename": "BinderException",
     "evalue": "Binder Error: No function matches the given name and argument types 'sum(VARCHAR)'. You might need to add explicit type casts.\n\tCandidate functions:\n\tsum(DECIMAL) -> DECIMAL\n\tsum(BOOLEAN) -> HUGEINT\n\tsum(SMALLINT) -> HUGEINT\n\tsum(INTEGER) -> HUGEINT\n\tsum(BIGINT) -> HUGEINT\n\tsum(HUGEINT) -> HUGEINT\n\tsum(DOUBLE) -> DOUBLE\n\n\nLINE 1: SELECT SUM('primary sales') AS total_primary_sales FROM sales_data...\n               ^",
     "output_type": "error",
     "traceback": [
      "\u001b[1;31m---------------------------------------------------------------------------\u001b[0m\n",
      "\u001b[1;31mBinderException\u001b[0m                           Traceback (most recent call last)\n",
      "Cell \u001b[1;32mIn[6], line 3\u001b[0m\n",
      "\u001b[0;32m      1\u001b[0m sql \u001b[38;5;241m=\u001b[39m \u001b[38;5;124m\"\u001b[39m\u001b[38;5;124mSELECT SUM(\u001b[39m\u001b[38;5;124m'\u001b[39m\u001b[38;5;124mprimary sales\u001b[39m\u001b[38;5;124m'\u001b[39m\u001b[38;5;124m) AS total_primary_sales FROM sales_data WHERE (month >= 7 AND month <= 9) AND year = 2024\u001b[39m\u001b[38;5;124m\"\u001b[39m\n",
      "\u001b[0;32m      2\u001b[0m \u001b[38;5;28mprint\u001b[39m(\u001b[38;5;124m\"\u001b[39m\u001b[38;5;130;01m\\n\u001b[39;00m\u001b[38;5;124m📜 Executing SQL:\u001b[39m\u001b[38;5;124m\"\u001b[39m)\n",
      "\u001b[1;32m----> 3\u001b[0m \u001b[43mcon\u001b[49m\u001b[38;5;241;43m.\u001b[39;49m\u001b[43mexecute\u001b[49m\u001b[43m(\u001b[49m\u001b[43msql\u001b[49m\u001b[43m)\u001b[49m\u001b[38;5;241m.\u001b[39mfetchdf()\n",
      "\n",
      "\u001b[1;31mBinderException\u001b[0m: Binder Error: No function matches the given name and argument types 'sum(VARCHAR)'. You might need to add explicit type casts.\n",
      "\tCandidate functions:\n",
      "\tsum(DECIMAL) -> DECIMAL\n",
      "\tsum(BOOLEAN) -> HUGEINT\n",
      "\tsum(SMALLINT) -> HUGEINT\n",
      "\tsum(INTEGER) -> HUGEINT\n",
      "\tsum(BIGINT) -> HUGEINT\n",
      "\tsum(HUGEINT) -> HUGEINT\n",
      "\tsum(DOUBLE) -> DOUBLE\n",
      "\n",
      "\n",
      "LINE 1: SELECT SUM('primary sales') AS total_primary_sales FROM sales_data...\n",
      "               ^"
     ]
    }
   ],
   "source": [
    "sql = \"SELECT SUM('primary sales') AS total_primary_sales FROM sales_data WHERE (month >= 7 AND month <= 9) AND year = 2024\"\n",
    "print(\"\\n📜 Executing SQL:\")\n",
    "con.execute(sql).fetchdf()"
   ]
  }
 ],
 "metadata": {
  "kernelspec": {
   "display_name": "hf_env",
   "language": "python",
   "name": "python3"
  },
  "language_info": {
   "codemirror_mode": {
    "name": "ipython",
    "version": 3
   },
   "file_extension": ".py",
   "mimetype": "text/x-python",
   "name": "python",
   "nbconvert_exporter": "python",
   "pygments_lexer": "ipython3",
   "version": "3.10.14"
  }
 },
 "nbformat": 4,
 "nbformat_minor": 5
}
