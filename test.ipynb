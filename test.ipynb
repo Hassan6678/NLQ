{
 "cells": [
  {
   "cell_type": "code",
   "execution_count": 2,
   "id": "73fdf91a",
   "metadata": {},
   "outputs": [],
   "source": [
    "from llama_cpp import Llama\n",
    "import pandas as pd\n",
    "import duckdb, os"
   ]
  },
  {
   "cell_type": "code",
   "execution_count": 4,
   "id": "2c014dd9",
   "metadata": {},
   "outputs": [
    {
     "name": "stderr",
     "output_type": "stream",
     "text": [
      "AVX = 1 | AVX2 = 1 | AVX512 = 0 | AVX512_VBMI = 0 | AVX512_VNNI = 0 | FMA = 1 | NEON = 0 | ARM_FMA = 0 | F16C = 1 | FP16_VA = 0 | WASM_SIMD = 0 | BLAS = 1 | SSE3 = 1 | SSSE3 = 0 | VSX = 0 | \n"
     ]
    }
   ],
   "source": [
    "# Path to your GGUF model\n",
    "MODEL_PATH = \"models/llama-3-sqlcoder-8b.Q6_K.gguf\"\n",
    "\n",
    "# llm = Llama(model_path=MODEL_PATH, n_ctx=2048, n_threads=6)\n",
    "llm = Llama(\n",
    "    model_path=MODEL_PATH,\n",
    "    n_ctx=1024,  # Lower context size if RAM is an issue\n",
    "    n_threads=6,\n",
    "    n_gpu_layers=20,  # Safer for 8GB GPU\n",
    "    verbose=True\n",
    ")"
   ]
  },
  {
   "cell_type": "code",
   "execution_count": 5,
   "id": "a765f0dc",
   "metadata": {},
   "outputs": [
    {
     "data": {
      "text/plain": [
       "<duckdb.duckdb.DuckDBPyConnection at 0x1d480c8aaf0>"
      ]
     },
     "execution_count": 5,
     "metadata": {},
     "output_type": "execute_result"
    }
   ],
   "source": [
    "# Load CSV into DuckDB\n",
    "df = pd.read_csv(\"sales.csv\")\n",
    "con = duckdb.connect()\n",
    "con.register(\"sales_data\", df)"
   ]
  },
  {
   "cell_type": "code",
   "execution_count": 6,
   "id": "2bf1163a",
   "metadata": {},
   "outputs": [],
   "source": [
    "# Prompt template\n",
    "def build_prompt(nlq):\n",
    "    schema = \"sales_data(region TEXT, quarter TEXT, sales INT)\"\n",
    "    prompt = f\"\"\"### You are an expert Postgres SQL generator.\n",
    "### Given the following table schema:\n",
    "# {schema}\n",
    "\n",
    "### Write a SQL query to answer the question:\n",
    "# {nlq}\n",
    "\n",
    "### SQL:\n",
    "\"\"\"\n",
    "    return prompt"
   ]
  },
  {
   "cell_type": "code",
   "execution_count": 10,
   "id": "57737dfd",
   "metadata": {},
   "outputs": [],
   "source": [
    "# Query model\n",
    "def generate_sql(prompt):\n",
    "    output = llm(prompt, temperature=0, max_tokens=256)\n",
    "    text = output[\"choices\"][0][\"text\"]\n",
    "\n",
    "    if \"SELECT\" not in text.upper():\n",
    "        print(\"❌ 'SELECT' not found in model output. Raw output:\")\n",
    "        print(text)\n",
    "        return None\n",
    "\n",
    "    # Try to extract SQL statement cleanly\n",
    "    try:\n",
    "        sql = \"SELECT \" + text.upper().split(\"SELECT\", 1)[1].split(\";\")[0].strip() + \";\"\n",
    "        return sql\n",
    "    except Exception as e:\n",
    "        print(\"❌ Error while parsing SQL:\", e)\n",
    "        print(\"Raw model output:\")\n",
    "        print(text)\n",
    "        return None"
   ]
  },
  {
   "cell_type": "code",
   "execution_count": 8,
   "id": "6fe79904",
   "metadata": {},
   "outputs": [],
   "source": [
    "# Run query\n",
    "def run_nlq(nlq):\n",
    "    prompt = build_prompt(nlq)\n",
    "    sql = generate_sql(prompt)\n",
    "\n",
    "    if not sql:\n",
    "        print(\"\\n⚠️ Could not generate valid SQL.\")\n",
    "        return\n",
    "\n",
    "    print(\"\\n📜 Generated SQL:\")\n",
    "    print(sql)\n",
    "\n",
    "    try:\n",
    "        result = con.execute(sql).fetchdf()\n",
    "        print(\"\\n📊 Query Result:\")\n",
    "        print(result)\n",
    "    except Exception as e:\n",
    "        print(\"\\n❌ SQL Execution Error:\")\n",
    "        print(e)"
   ]
  },
  {
   "cell_type": "code",
   "execution_count": 11,
   "id": "a0717556",
   "metadata": {},
   "outputs": [
    {
     "name": "stderr",
     "output_type": "stream",
     "text": [
      "Llama.generate: prefix-match hit\n"
     ]
    },
    {
     "name": "stdout",
     "output_type": "stream",
     "text": [
      "\n",
      "📜 Generated SQL:\n",
      "SELECT SUM(SALES) AS TOTAL_SALES FROM SALES_DATA WHERE REGION = 'NORTHEAST' AND QUARTER = 'Q3';\n",
      "\n",
      "📊 Query Result:\n",
      "   TOTAL_SALES\n",
      "0          NaN\n"
     ]
    }
   ],
   "source": [
    "run_nlq(\"What were the total sales in Q3 for the Northeast?\")"
   ]
  },
  {
   "cell_type": "code",
   "execution_count": 15,
   "id": "de87c5cb",
   "metadata": {},
   "outputs": [
    {
     "name": "stdout",
     "output_type": "stream",
     "text": [
      "      region quarter  sales\n",
      "0  Northeast      Q1  10000\n",
      "1  Northeast      Q2  15000\n",
      "2  Northeast      Q3  18000\n",
      "3      South      Q1   8000\n",
      "4      South      Q2   9500\n"
     ]
    }
   ],
   "source": [
    "print(con.execute(\"SELECT * FROM sales_data LIMIT 5\").fetchdf())"
   ]
  },
  {
   "cell_type": "code",
   "execution_count": 19,
   "id": "0b3fc672",
   "metadata": {},
   "outputs": [
    {
     "name": "stdout",
     "output_type": "stream",
     "text": [
      "\n",
      "📜 Executing SQL:\n"
     ]
    },
    {
     "data": {
      "text/html": [
       "<div>\n",
       "<style scoped>\n",
       "    .dataframe tbody tr th:only-of-type {\n",
       "        vertical-align: middle;\n",
       "    }\n",
       "\n",
       "    .dataframe tbody tr th {\n",
       "        vertical-align: top;\n",
       "    }\n",
       "\n",
       "    .dataframe thead th {\n",
       "        text-align: right;\n",
       "    }\n",
       "</style>\n",
       "<table border=\"1\" class=\"dataframe\">\n",
       "  <thead>\n",
       "    <tr style=\"text-align: right;\">\n",
       "      <th></th>\n",
       "      <th>TOTAL_SALES</th>\n",
       "    </tr>\n",
       "  </thead>\n",
       "  <tbody>\n",
       "    <tr>\n",
       "      <th>0</th>\n",
       "      <td>18000.0</td>\n",
       "    </tr>\n",
       "  </tbody>\n",
       "</table>\n",
       "</div>"
      ],
      "text/plain": [
       "   TOTAL_SALES\n",
       "0      18000.0"
      ]
     },
     "execution_count": 19,
     "metadata": {},
     "output_type": "execute_result"
    }
   ],
   "source": [
    "sql = \"SELECT SUM(SALES) AS TOTAL_SALES FROM SALES_DATA WHERE REGION = 'Northeast' AND QUARTER = 'Q3';\"\n",
    "print(\"\\n📜 Executing SQL:\")\n",
    "con.execute(sql).fetchdf()"
   ]
  },
  {
   "cell_type": "code",
   "execution_count": null,
   "id": "98fac9ce",
   "metadata": {},
   "outputs": [],
   "source": []
  }
 ],
 "metadata": {
  "kernelspec": {
   "display_name": "hf_env",
   "language": "python",
   "name": "python3"
  },
  "language_info": {
   "codemirror_mode": {
    "name": "ipython",
    "version": 3
   },
   "file_extension": ".py",
   "mimetype": "text/x-python",
   "name": "python",
   "nbconvert_exporter": "python",
   "pygments_lexer": "ipython3",
   "version": "3.10.14"
  }
 },
 "nbformat": 4,
 "nbformat_minor": 5
}
